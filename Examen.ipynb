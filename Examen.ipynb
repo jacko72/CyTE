{
 "cells": [
  {
   "cell_type": "markdown",
   "metadata": {},
   "source": [
    "### Respuestas a las preguntas 3 y 5 de examen\n",
    "\n",
    "La posición a la que debería colocarse un satélite geoestacionario:"
   ]
  },
  {
   "cell_type": "code",
   "execution_count": 16,
   "metadata": {},
   "outputs": [],
   "source": [
    "Me = 5.972e24  # Masa de la tierra (Kg)\n",
    "G  = 6.672e-11 # Cte. de gravedad universal (N*m^2/kg^2)\n",
    "T  = 24*3600   # Periodo del satélite en segundos\n",
    "M_sat = 30e3   # Masa del satélite (Kg)\n",
    "\n",
    "Re  = 6371e3  # Radio de la tierra (m)\n"
   ]
  },
  {
   "cell_type": "markdown",
   "metadata": {},
   "source": [
    "Empleando la relación de la tercera ley de Kepler:\n",
    "$$\n",
    "  T^2 = \\frac{4\\pi^2*a^3}{G*M_e}\n",
    "$$\n",
    "\n",
    "donde a es la distancia del semieje mayor, considerando que es una órbita circular:\n",
    "$$\n",
    "  a = R_e + h\n",
    "$$\n",
    "\n",
    "$R_e$ es el radio medio de la tierra y $h$ es la altura del satélite."
   ]
  },
  {
   "cell_type": "code",
   "execution_count": 17,
   "metadata": {},
   "outputs": [
    {
     "name": "stdout",
     "output_type": "stream",
     "text": [
      "La distancia para un satélite geoestacionario: 35864.85 kilometros\n"
     ]
    }
   ],
   "source": [
    "import numpy as np\n",
    "h = np.power(G*Me*np.power(T,2)/(4*np.power(np.pi,2)),1/3)-Re\n",
    "print(\"La distancia para un satélite geoestacionario: {:.2f} kilometros\".format(h/1000))"
   ]
  },
  {
   "cell_type": "markdown",
   "metadata": {},
   "source": [
    "&nbsp;"
   ]
  },
  {
   "cell_type": "markdown",
   "metadata": {},
   "source": [
    "\n",
    "\n",
    "\n",
    "\n",
    "\n",
    "Un satélite cruza el ecuador de la tierra a las 12:00 pm en dirección de sur a norte. El satélite orbitá a una altura de 600 Km de la superficie, calcular el siguiente cruce para determinar su visibilidad desde el mismo punto.  "
   ]
  },
  {
   "cell_type": "markdown",
   "metadata": {},
   "source": [
    "El satélite tendrá un periodo de:"
   ]
  },
  {
   "cell_type": "code",
   "execution_count": 18,
   "metadata": {},
   "outputs": [
    {
     "name": "stdout",
     "output_type": "stream",
     "text": [
      "5793.41 segundos\n"
     ]
    }
   ],
   "source": [
    "h = 600e3\n",
    "T_sat = 2*np.pi*np.sqrt(np.power(Re+h,3)/(G*Me)) # Despreciando la masa del satélite\n",
    "print(\"{:.2f} segundos\".format(T_sat))\n"
   ]
  },
  {
   "cell_type": "markdown",
   "metadata": {},
   "source": [
    "Esto es, la siguiente vez que cruzara el ecuador será en $T_{sat}/2 = 2896.7$ segundos, pero viajando de norte a sur. Por lo que el nuevo cruce de sur a norte será en $T_{sat} = 5793.41$ segundos.\n",
    "\n",
    "La siguiente imagen esquematiza lo anterior:\n",
    "\n",
    "<img src=\"./Imagenes/cruce.png\" alt=\"esquema geometrico cruce\" style=\"width: 600px;\"/>\n",
    "\n",
    "En una vista desde el eje polar, vista desde \"arriba\", el punto sobre el ecuador cuando sucede el cruce se traslada una distancia angular a una razón de 360°/86400seg\n",
    "\n",
    "Por lo que en $T_{sat}$ habrá avanzado:"
   ]
  },
  {
   "cell_type": "code",
   "execution_count": 19,
   "metadata": {},
   "outputs": [
    {
     "name": "stdout",
     "output_type": "stream",
     "text": [
      "Avance angular del punto en el ecuador en 5793.41 es: 24.14 grados\n"
     ]
    }
   ],
   "source": [
    "ang_avan = 360*T_sat/86400\n",
    "print(\"Avance angular del punto en el ecuador en {:.2f} es: {:.2f} grados\".format(T_sat,ang_avan))"
   ]
  },
  {
   "cell_type": "markdown",
   "metadata": {},
   "source": [
    "<img src=\"./Imagenes/satelite_polar.png\" alt=\"esquema geometrico polar\" style=\"width: 600px;\"/>"
   ]
  },
  {
   "cell_type": "markdown",
   "metadata": {},
   "source": [
    "Para determinar si el punto se encuentra en el área de cobertura, se calcula el ángulo $\\theta$ del esquema geométrico del satélite para área de cobertura.\n",
    "\n",
    "$$\n",
    "  cos (\\theta) = \\frac{R_e}{R_e+h}\n",
    "$$"
   ]
  },
  {
   "cell_type": "code",
   "execution_count": 20,
   "metadata": {},
   "outputs": [
    {
     "name": "stdout",
     "output_type": "stream",
     "text": [
      "Angulo: 23.95 grados\n"
     ]
    }
   ],
   "source": [
    "ang_cover = np.degrees(np.arccos(Re/(Re+h)))\n",
    "print(\"Angulo: {:.2f} grados\".format(ang_cover))"
   ]
  },
  {
   "cell_type": "markdown",
   "metadata": {},
   "source": [
    "Esto es, el angulo $\\theta$ del esquema de cobertura es menor al punto desplazado en el ecuador. Por tanto, no es visible el satélite en el siguiente paso."
   ]
  }
 ],
 "metadata": {
  "kernelspec": {
   "display_name": "Python 3",
   "language": "python",
   "name": "python3"
  },
  "language_info": {
   "codemirror_mode": {
    "name": "ipython",
    "version": 3
   },
   "file_extension": ".py",
   "mimetype": "text/x-python",
   "name": "python",
   "nbconvert_exporter": "python",
   "pygments_lexer": "ipython3",
   "version": "3.7.1"
  }
 },
 "nbformat": 4,
 "nbformat_minor": 2
}
